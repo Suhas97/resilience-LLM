{
 "cells": [
  {
   "cell_type": "code",
   "execution_count": 1,
   "id": "5742286c",
   "metadata": {},
   "outputs": [],
   "source": [
    "import openai\n",
    "import pandas as pd"
   ]
  },
  {
   "cell_type": "code",
   "execution_count": 2,
   "id": "e939024b",
   "metadata": {},
   "outputs": [],
   "source": [
    "#insert API Key\n",
    "openai.api_key = ''"
   ]
  },
  {
   "cell_type": "code",
   "execution_count": 3,
   "id": "c967a701",
   "metadata": {},
   "outputs": [],
   "source": [
    "def gpt_response(data):\n",
    "    completion = openai.ChatCompletion.create(model=\"gpt-3.5-turbo\", messages=[{\"role\": \"user\", \"content\": data}])\n",
    "    return(completion.choices[0].message.content)"
   ]
  },
  {
   "cell_type": "code",
   "execution_count": 4,
   "id": "d8c29a67",
   "metadata": {},
   "outputs": [],
   "source": [
    "#Setting the preamble and outcome\n",
    "\n",
    "income = ['low income', 'poor','middle class','wealthy','rich']\n",
    "homes = ['mobile homes','makeshift shelters','suburban homes','private homes','mansions']\n",
    "data = []\n",
    "result = []\n",
    "repeat = 10\n",
    "\n",
    "\n",
    "for i in range (len(homes)):\n",
    "    res = []\n",
    "    data.append(\"How can \" + income[i] + \" residents in \" + homes[i] + \" in phoenix, overcome extreme heat in their homes? Please provide creative and innovative solutions.\")\n",
    "    for j in range (0,repeat):\n",
    "        res.append(gpt_response(str(data[i])))\n",
    "    result.append(res)"
   ]
  },
  {
   "cell_type": "code",
   "execution_count": 5,
   "id": "fd5f1dda",
   "metadata": {},
   "outputs": [],
   "source": [
    "num_response = 10\n",
    "column_names = [f'Response{i}' for i in range(1, num_response + 1)]\n",
    "df = pd.DataFrame(result, columns=column_names)\n",
    "df.insert(0, 'Prompt', data)\n",
    "df.to_csv('output.csv', index=False)"
   ]
  }
 ],
 "metadata": {
  "kernelspec": {
   "display_name": "Python 3 (ipykernel)",
   "language": "python",
   "name": "python3"
  },
  "language_info": {
   "codemirror_mode": {
    "name": "ipython",
    "version": 3
   },
   "file_extension": ".py",
   "mimetype": "text/x-python",
   "name": "python",
   "nbconvert_exporter": "python",
   "pygments_lexer": "ipython3",
   "version": "3.10.6"
  }
 },
 "nbformat": 4,
 "nbformat_minor": 5
}
